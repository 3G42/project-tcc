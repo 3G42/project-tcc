{
 "cells": [
  {
   "cell_type": "markdown",
   "id": "33fc3d81-d2e2-4d8d-86e1-fce7d185d089",
   "metadata": {},
   "source": [
    "## Escopo programa\n",
    "- Arquivo .dss contem definições sobre a simulação e o circuito\n",
    "- O programa deve em python deve\n",
    "1. Criar a instancia do objeto DSS\n",
    "2. Deve compilar o arquivo .dss\n",
    "3. Listar Monitors\n",
    "4. ...\n",
    "5. ...\n",
    "6. ...\n",
    "7. "
   ]
  },
  {
   "cell_type": "code",
   "execution_count": 1,
   "id": "c4697bf3-30a1-45f1-9c73-61993ffcea84",
   "metadata": {},
   "outputs": [],
   "source": [
    "import py_dss_interface as pydss"
   ]
  },
  {
   "cell_type": "code",
   "execution_count": 2,
   "id": "74309fce-9dfd-4ae7-bbf8-7893dd0ced10",
   "metadata": {},
   "outputs": [],
   "source": [
    "import pandas as pd\n",
    "import seaborn as sns\n",
    "import datetime"
   ]
  },
  {
   "cell_type": "code",
   "execution_count": 48,
   "id": "87c62bfa-0865-409b-9921-f1676210fc17",
   "metadata": {},
   "outputs": [
    {
     "name": "stdout",
     "output_type": "stream",
     "text": [
      "10.0\n",
      "Daily\n"
     ]
    },
    {
     "data": {
      "text/plain": [
       "0"
      ]
     },
     "execution_count": 48,
     "metadata": {},
     "output_type": "execute_result"
    }
   ],
   "source": [
    "dssObj = pydss.DSS()\n",
    "\n",
    "dss_project_file = r\"C:/Users/gabri/project-tcc/src/circbtfull_storage.dss\"\n",
    "dssObj.text(f\"compile {dss_project_file}\")\n",
    "dssObj.solution.mode = 1\n",
    "dssObj.solution.step_size_min\n",
    "dssObj.solution.step_size=10\n",
    "print(dssObj.solution.step_size)\n",
    "print(dssObj.solution.mode_id)\n",
    "dssObj.solution.solve()\n",
    "\n"
   ]
  },
  {
   "cell_type": "code",
   "execution_count": 49,
   "id": "b12dccdf-612a-4536-b57c-cbadec0cb85b",
   "metadata": {},
   "outputs": [],
   "source": [
    "def float_to_time(hours_float):\n",
    "    start_date = datetime.datetime(2024,11,20)\n",
    "    time_delta = datetime.timedelta(hours=hours_float)\n",
    "    time_obj = (start_date + time_delta).time()\n",
    "\n",
    "    return str(time_obj)\n",
    "\n",
    "\n",
    "def get_monitor_data(name : str):\n",
    "    dssObj.monitors.name = name\n",
    "    dssObj.monitors.save()\n",
    "    num_channels = dssObj.monitors.num_channels\n",
    "    header = dssObj.monitors.header\n",
    "    data = {}\n",
    "    for i in range(num_channels):\n",
    "        data[header[i]] = dssObj.monitors.channel(i+1)\n",
    "    return {\n",
    "        'monitor_name': name,\n",
    "        'data':data\n",
    "    }\n",
    "\n"
   ]
  },
  {
   "cell_type": "code",
   "execution_count": 50,
   "id": "6e13042e-a5cb-4b81-b555-34708238cda5",
   "metadata": {},
   "outputs": [],
   "source": [
    "name_monitors = dssObj.monitors.names\n",
    "monitors_obj = []\n",
    "for name in name_monitors:\n",
    "    monitors_obj.append(get_monitor_data(name))\n",
    "dfs = dict(map(lambda d: (d['monitor_name'], pd.DataFrame(data=d['data'])), monitors_obj))\n",
    "\n",
    "\n"
   ]
  },
  {
   "cell_type": "code",
   "execution_count": 51,
   "id": "86364429-d0dc-41e0-a44d-2fe25b9f0d4b",
   "metadata": {
    "scrolled": true
   },
   "outputs": [
    {
     "data": {
      "text/plain": [
       "<Axes: ylabel=' P1 (kW)'>"
      ]
     },
     "execution_count": 51,
     "metadata": {},
     "output_type": "execute_result"
    },
    {
     "data": {
      "image/png": "[encoded data removed]",
      "text/plain": [
       "<Figure size 640x480 with 1 Axes>"
      ]
     },
     "metadata": {},
     "output_type": "display_data"
    }
   ],
   "source": [
    "sns.lineplot(dfs['ptrafo'][' P1 (kW)'])"
   ]
  },
  {
   "cell_type": "code",
   "execution_count": 7,
   "id": "494f09b5-51f6-4d55-a198-6dd2ed8cfcb4",
   "metadata": {},
   "outputs": [
    {
     "ename": "SyntaxError",
     "evalue": "invalid syntax. Maybe you meant '==' or ':=' instead of '='? (1861719610.py, line 6)",
     "output_type": "error",
     "traceback": [
      "\u001b[1;36m  Cell \u001b[1;32mIn[7], line 6\u001b[1;36m\u001b[0m\n\u001b[1;33m    df[column] =  monitors_obj[j=0]\u001b[0m\n\u001b[1;37m                               ^\u001b[0m\n\u001b[1;31mSyntaxError\u001b[0m\u001b[1;31m:\u001b[0m invalid syntax. Maybe you meant '==' or ':=' instead of '='?\n"
     ]
    }
   ],
   "source": [
    "df_array = [pd.DataFrame(columns=_['header']) for _ in monitors_obj]\n",
    "i = 0\n",
    "for df in df_array:\n",
    "    j=0\n",
    "    for column in df.columns: \n",
    "        df[column] =  monitors_obj[j=0]"
   ]
  },
  {
   "cell_type": "code",
   "execution_count": null,
   "id": "503e09b7-374d-4c4c-b5db-8d43dce53721",
   "metadata": {},
   "outputs": [],
   "source": [
    "dssObj.monitors.names\n",
    "dssObj.monitors.save()\n",
    "teste = dssObj.monitors.byte_stream.copy()\n",
    "result = []\n",
    "teste[0].decode()"
   ]
  },
  {
   "cell_type": "code",
   "execution_count": null,
   "id": "39b90ca1-f7b1-4da1-91ba-ba9f29b93ca6",
   "metadata": {},
   "outputs": [],
   "source": []
  }
 ],
 "metadata": {
  "kernelspec": {
   "display_name": "Python 3 (ipykernel)",
   "language": "python",
   "name": "python3"
  },
  "language_info": {
   "codemirror_mode": {
    "name": "ipython",
    "version": 3
   },
   "file_extension": ".py",
   "mimetype": "text/x-python",
   "name": "python",
   "nbconvert_exporter": "python",
   "pygments_lexer": "ipython3",
   "version": "3.13.0"
  }
 },
 "nbformat": 4,
 "nbformat_minor": 5
}
